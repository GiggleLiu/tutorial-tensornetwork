{
 "cells": [
  {
   "cell_type": "code",
   "execution_count": null,
   "id": "7f8fcedf",
   "metadata": {},
   "outputs": [],
   "source": [
    "using Pkg;Pkg.status()"
   ]
  },
  {
   "cell_type": "code",
   "execution_count": null,
   "id": "73a35e8c",
   "metadata": {},
   "outputs": [],
   "source": [
    "using TensorQEC\n",
    "using TensorQEC.Yao\n",
    "using TensorQEC.OMEinsum\n",
    "using Random"
   ]
  },
  {
   "cell_type": "markdown",
   "id": "0cf67300",
   "metadata": {},
   "source": [
    "## Circuit-level Quanutm Error Correction Decoding Problem\n",
    "### Load data\n",
    "The quantum circuits and the corresponding detector error model is placed under the `data` folder. Here we load the syndrome measurement circuit of code distance `d=3`, error correction cycle `r=3` surface code and the corresponding detector error model. It is from Ref: xxx"
   ]
  },
  {
   "cell_type": "code",
   "execution_count": null,
   "id": "f66724c6",
   "metadata": {},
   "outputs": [],
   "source": [
    "# stim file stores the circuit and the error model\n",
    "qc = parse_stim_file(joinpath(@__DIR__, \"data\", \"surface_code_d=3_r=3.stim\"), 26);\n",
    "vizcircuit(qc)"
   ]
  },
  {
   "cell_type": "markdown",
   "id": "ac7c13f4-89e6-43f6-8f7e-072ef8b57258",
   "metadata": {},
   "source": [
    "- The circuit first measure and reset the ancilla qubits to state 0. The unmeasured lines represents the data qubits.\n",
    "- After each gate, depolarizing error is added.\n",
    "- Intermediate measurement outcomes are stored into the recorder, annotated by `rec[k]`\n",
    "- Detectors checks the syndromes, it checks the recorder and computes the XOR of the annotated records."
   ]
  },
  {
   "cell_type": "code",
   "execution_count": null,
   "id": "4bd3feb8",
   "metadata": {},
   "outputs": [],
   "source": [
    "# dem file stores the XXX, which can be used to sample the errors\n",
    "dem = TensorQEC.parse_dem_file(joinpath(@__DIR__, \"data\", \"surface_code_d=3_r=3.dem\"))"
   ]
  },
  {
   "cell_type": "markdown",
   "id": "d732680c",
   "metadata": {},
   "source": [
    "### Generate the tensor network\n",
    "Now we can generate the corresponding tensor network with `compile` function. `TNMMAP` is a tensor network based marginal maximum a posteriori (MMAP) decoder, which finds the most probable logical sector after marginalizing out the error pattern on qubits. `TreeSA()` is the optimizer for optimizing the tensor network contraction order. `true` means that we want to factorize the tensors to rank-3 tensors to avoid large tensors. (we should do this implicitly)"
   ]
  },
  {
   "cell_type": "code",
   "execution_count": null,
   "id": "461b3a4e",
   "metadata": {},
   "outputs": [],
   "source": [
    "compiled_decoder = compile(TNMMAP(TreeSA(), true), dem)\n",
    "compiled_decoder.code"
   ]
  },
  {
   "cell_type": "code",
   "execution_count": null,
   "id": "44b0bd23",
   "metadata": {},
   "outputs": [],
   "source": [
    "contraction_complexity(compiled_decoder.code,uniformsize(compiled_decoder.code, 2))"
   ]
  },
  {
   "cell_type": "markdown",
   "id": "4c10c0ac",
   "metadata": {},
   "source": [
    "## Compute the probability of different logical sectors by tensor network contraction"
   ]
  },
  {
   "cell_type": "code",
   "execution_count": null,
   "id": "daddcecd",
   "metadata": {},
   "outputs": [],
   "source": [
    "# Randomly generate an error pattern and measure the syndrome.  ## Should generated from the circuit?\n",
    "Random.seed!(1234)\n",
    "ep = random_error_qubits(IndependentFlipError(dem.error_rates))\n",
    "syndrome = syndrome_extraction(ep, compiled_decoder.tanner)\n",
    "\n",
    "# Update the syndrome and compute the probability of different logical sectors by tensor network contraction.\n",
    "TensorQEC.update_syndrome!(compiled_decoder, syndrome)\n",
    "compiled_decoder.code(compiled_decoder.tensors...)"
   ]
  },
  {
   "cell_type": "markdown",
   "id": "88d45c28",
   "metadata": {},
   "source": [
    "### Another hard example of [[144,12,12]] BB Code.\n",
    "This file comes from https://github.com/quantumlib/tesseract-decoder/tree/main/testdata/bivariatebicyclecodes"
   ]
  },
  {
   "cell_type": "code",
   "execution_count": null,
   "id": "020b8dbd",
   "metadata": {},
   "outputs": [],
   "source": [
    "dem = TensorQEC.parse_dem_file(joinpath(@__DIR__, \"data\", \"r=12,d=12,p=0.001,noise=si1000,c=bivariate_bicycle_X,nkd=[[144,12,12]],q=288,iscolored=True,A_poly=x^3+y+y^2,B_poly=y^3+x+x^2.dem\"))\n",
    "ct = compile(TNMMAP(TensorQEC.NoOptimizer(), true), dem); # Here we use the NoOptimizer to avoid any optimization. Since the code is too large, the default optimizer will be too slow.\n",
    "length(ct.code.ixs)"
   ]
  },
  {
   "cell_type": "code",
   "execution_count": null,
   "id": "1caf18da",
   "metadata": {},
   "outputs": [],
   "source": [
    "contraction_complexity(ct.code,uniformsize(ct.code, 2))"
   ]
  },
  {
   "cell_type": "code",
   "execution_count": null,
   "id": "cd38da05",
   "metadata": {},
   "outputs": [],
   "source": []
  }
 ],
 "metadata": {
  "kernelspec": {
   "display_name": "Julia 1.11.6",
   "language": "julia",
   "name": "julia-1.11"
  },
  "language_info": {
   "file_extension": ".jl",
   "mimetype": "application/julia",
   "name": "julia",
   "version": "1.11.6"
  }
 },
 "nbformat": 4,
 "nbformat_minor": 5
}
