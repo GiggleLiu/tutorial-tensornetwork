{
 "cells": [
  {
   "cell_type": "code",
   "execution_count": 16,
   "id": "7f8fcedf",
   "metadata": {},
   "outputs": [
    {
     "name": "stderr",
     "output_type": "stream",
     "text": [
      "\u001b[32m\u001b[1m  Activating\u001b[22m\u001b[39m project at `~/jcode/tutorial-tensornetwork/examples/qec`\n"
     ]
    },
    {
     "name": "stdout",
     "output_type": "stream",
     "text": [
      "\u001b[32m\u001b[1mStatus\u001b[22m\u001b[39m `~/jcode/tutorial-tensornetwork/examples/qec/Project.toml`\n",
      "  \u001b[90m[0500ac79] \u001b[39mTensorQEC v2.1.0\n",
      "  \u001b[90m[9a3f8284] \u001b[39mRandom v1.11.0\n"
     ]
    }
   ],
   "source": [
    "using Pkg; Pkg.activate(\".\"); Pkg.instantiate();Pkg.status()"
   ]
  },
  {
   "cell_type": "code",
   "execution_count": 17,
   "id": "73a35e8c",
   "metadata": {},
   "outputs": [],
   "source": [
    "using TensorQEC\n",
    "using TensorQEC.Yao\n",
    "using TensorQEC.OMEinsum\n",
    "using Random"
   ]
  },
  {
   "cell_type": "markdown",
   "id": "0cf67300",
   "metadata": {},
   "source": [
    "## Circuit-level Quanutm Error Correction Decoding Problem\n",
    "### Load data\n",
    "The quantum circuits and the corresponding detector error model is placed under the `data` folder. Here we load the syndrome measurement circuit of `d=3` surface code and the corresponding detector error model."
   ]
  },
  {
   "cell_type": "code",
   "execution_count": null,
   "id": "f66724c6",
   "metadata": {},
   "outputs": [],
   "source": [
    "# Surface code\n",
    "qc = parse_stim_file(joinpath(@__DIR__, \"data\", \"surface_code_d=3_r=3.stim\"), 26);\n",
    "vizcircuit(qc)"
   ]
  },
  {
   "cell_type": "code",
   "execution_count": 18,
   "id": "4bd3feb8",
   "metadata": {},
   "outputs": [
    {
     "data": {
      "text/plain": [
       "┌─────────────┬────────────────┬──────────┐\n",
       "│\u001b[1m       Error \u001b[0m│\u001b[1m      Detectors \u001b[0m│\u001b[1m Logicals \u001b[0m│\n",
       "├─────────────┼────────────────┼──────────┤\n",
       "│  0.00193118 │            [1] │  Int64[] │\n",
       "│  0.00193118 │         [1, 2] │  Int64[] │\n",
       "│   0.0025292 │         [1, 9] │  Int64[] │\n",
       "│  0.00193118 │         [2, 3] │  Int64[] │\n",
       "│ 0.000400053 │      [2, 5, 6] │  Int64[] │\n",
       "│ 0.000133387 │      [2, 5, 9] │  Int64[] │\n",
       "│ 0.000799787 │         [2, 5] │     [25] │\n",
       "│  0.00266191 │         [2, 6] │  Int64[] │\n",
       "│ 0.000400053 │         [2, 9] │  Int64[] │\n",
       "│  0.00411959 │            [2] │     [25] │\n",
       "│  0.00405343 │            [3] │  Int64[] │\n",
       "│  0.00219689 │         [3, 4] │  Int64[] │\n",
       "│ 0.000533333 │      [3, 4, 7] │  Int64[] │\n",
       "│  0.00059996 │         [3, 6] │  Int64[] │\n",
       "│ 0.000200067 │      [3, 6, 7] │  Int64[] │\n",
       "│ 0.000200067 │  [3, 6, 7, 10] │  Int64[] │\n",
       "│      ⋮      │       ⋮        │    ⋮     │\n",
       "└─────────────┴────────────────┴──────────┘\n",
       "\u001b[36m                           203 rows omitted\u001b[0m\n"
      ]
     },
     "metadata": {},
     "output_type": "display_data"
    }
   ],
   "source": [
    "dem = TensorQEC.parse_dem_file(joinpath(@__DIR__, \"data\", \"surface_code_d=3_r=3.dem\"))"
   ]
  },
  {
   "cell_type": "markdown",
   "id": "d732680c",
   "metadata": {},
   "source": [
    "### Generate the tensor network\n",
    "Now we can generate the corresponding tensor network with `compile` function. `TNMMAP` is a tensor network based marginal maximum a posteriori (MMAP) decoder, which finds the most probable logical sector after marginalizing out the error pattern on qubits. `TreeSA()` is the optimizer for optimizing the tensor network contraction order. `true` means that we want to factorize the tensors to rank-3 tensors to avoid large tensors."
   ]
  },
  {
   "cell_type": "code",
   "execution_count": 6,
   "id": "461b3a4e",
   "metadata": {},
   "outputs": [
    {
     "data": {
      "text/plain": [
       "SlicedEinsum{Int64, DynamicNestedEinsum{Int64}}(Int64[], 244∘219∘793, 219∘793 -> 244\n",
       "├─ 244∘219∘793\n",
       "└─ 760∘219, 760∘793 -> 219∘793\n",
       "   ├─ 243∘219∘760, 219∘243 -> 760∘219\n",
       "   │  ├─ 243∘219∘760\n",
       "   │  └─ 219, 243 -> 219∘243\n",
       "   │     ├─ 219\n",
       "   │     └─ 243\n",
       "   └─ 760∘758∘190, 793∘190∘758 -> 760∘793\n",
       "      ├─ 190∘218∘760, 758∘190∘218 -> 760∘758∘190\n",
       "      │  ├─ 190∘218∘760\n",
       "      │  └─ 758∘218, 218∘190 -> 758∘190∘218\n",
       "      │     ├─ 759∘758, 218∘759 -> 758∘218\n",
       "      │     │  ⋮\n",
       "      │     │  \n",
       "      │     └─ 218, 190 -> 218∘190\n",
       "      │        ⋮\n",
       "      │        \n",
       "      └─ 793∘792∘753, 190∘792∘753∘758 -> 793∘190∘758\n",
       "         ├─ 793∘216∘792, 753∘216 -> 793∘792∘753\n",
       "         │  ├─ 793∘216∘792\n",
       "         │  └─ 241∘216∘753, 241∘216 -> 753∘216\n",
       "         │     ⋮\n",
       "         │     \n",
       "         └─ 752∘757∘190∘792, 753∘752∘758∘757 -> 190∘792∘753∘758\n",
       "            ├─ 752∘757∘622∘790∘204, 190∘622∘790∘792∘204 -> 752∘757∘190∘792\n",
       "            │  ⋮\n",
       "            │  \n",
       "            └─ 753∘215∘752, 758∘757∘215 -> 753∘752∘758∘757\n",
       "               ⋮\n",
       "               \n",
       ")"
      ]
     },
     "metadata": {},
     "output_type": "display_data"
    }
   ],
   "source": [
    "compiled_decoder = compile(TNMMAP(TreeSA(), true), dem)\n",
    "compiled_decoder.code"
   ]
  },
  {
   "cell_type": "code",
   "execution_count": 19,
   "id": "44b0bd23",
   "metadata": {},
   "outputs": [
    {
     "data": {
      "text/plain": [
       "Time complexity: 2^19.58676650225778\n",
       "Space complexity: 2^11.0\n",
       "Read-write complexity: 2^17.71708731655822"
      ]
     },
     "metadata": {},
     "output_type": "display_data"
    }
   ],
   "source": [
    "contraction_complexity(compiled_decoder.code,uniformsize(compiled_decoder.code, 2))"
   ]
  },
  {
   "cell_type": "markdown",
   "id": "4c10c0ac",
   "metadata": {},
   "source": [
    "## Compute the probability of different logical sectors by tensor network contraction"
   ]
  },
  {
   "cell_type": "code",
   "execution_count": 20,
   "id": "daddcecd",
   "metadata": {},
   "outputs": [
    {
     "data": {
      "text/plain": [
       "2-element Vector{Float64}:\n",
       " 0.8426216150912977\n",
       " 9.535387828248589e-8"
      ]
     },
     "metadata": {},
     "output_type": "display_data"
    }
   ],
   "source": [
    "# Randomly generate an error pattern and measure the syndrome.\n",
    "Random.seed!(1234)\n",
    "ep = random_error_qubits(IndependentFlipError(dem.error_rates))\n",
    "syndrome = syndrome_extraction(ep, compiled_decoder.tanner)\n",
    "\n",
    "# Update the syndrome and compute the probability of different logical sectors by tensor network contraction.\n",
    "TensorQEC.update_syndrome!(compiled_decoder, syndrome)\n",
    "mar = compiled_decoder.code(compiled_decoder.tensors...)"
   ]
  },
  {
   "cell_type": "code",
   "execution_count": null,
   "id": "388eb9c9",
   "metadata": {},
   "outputs": [],
   "source": [
    "# Then we can use this probability to infer the error pattern.\n",
    "_, pos = findmax(mar)\n",
    "ep = TensorQEC._mixed_integer_programming_for_one_solution(compiled_decoder.tanner.H, syndrome.s)\n",
    "if sum(x -> ep[x], compiled_decoder.l2q[1]).x == (pos == 1)\n",
    "    ep[compiled_decoder.l2q[1]] .+= Mod2(1)\n",
    "end"
   ]
  },
  {
   "cell_type": "code",
   "execution_count": 27,
   "id": "f77368c6",
   "metadata": {},
   "outputs": [
    {
     "data": {
      "text/plain": [
       "true"
      ]
     },
     "metadata": {},
     "output_type": "display_data"
    }
   ],
   "source": [
    "# Finally, we can check whether the error pattern is correct.\n",
    "syndrome == syndrome_extraction(ep, compiled_decoder.tanner)"
   ]
  },
  {
   "cell_type": "markdown",
   "id": "88d45c28",
   "metadata": {},
   "source": [
    "### Another hard example of [[144,12,12]] BB Code.\n",
    "This file comes from https://github.com/quantumlib/tesseract-decoder/tree/main/testdata/bivariatebicyclecodes"
   ]
  },
  {
   "cell_type": "code",
   "execution_count": null,
   "id": "020b8dbd",
   "metadata": {},
   "outputs": [
    {
     "data": {
      "text/plain": [
       "585004"
      ]
     },
     "metadata": {},
     "output_type": "display_data"
    }
   ],
   "source": [
    "dem = TensorQEC.parse_dem_file(joinpath(@__DIR__, \"data\", \"r=12,d=12,p=0.001,noise=si1000,c=bivariate_bicycle_X,nkd=[[144,12,12]],q=288,iscolored=True,A_poly=x^3+y+y^2,B_poly=y^3+x+x^2.dem\"))\n",
    "ct = compile(TNMMAP(TensorQEC.NoOptimizer(), true), dem); # Here we use the NoOptimizer to avoid any optimization. Since the code is too large, the default optimizer will be too slow.\n",
    "length(ct.code.ixs)"
   ]
  },
  {
   "cell_type": "code",
   "execution_count": null,
   "id": "1caf18da",
   "metadata": {},
   "outputs": [
    {
     "data": {
      "text/plain": [
       "Time complexity: 2^583276.0\n",
       "Space complexity: 2^12.0\n",
       "Read-write complexity: 2^22.024728467158457"
      ]
     },
     "metadata": {},
     "output_type": "display_data"
    }
   ],
   "source": [
    "contraction_complexity(ct.code,uniformsize(ct.code, 2))"
   ]
  },
  {
   "cell_type": "code",
   "execution_count": null,
   "id": "cd38da05",
   "metadata": {},
   "outputs": [],
   "source": []
  }
 ],
 "metadata": {
  "kernelspec": {
   "display_name": "Julia 1.11.6",
   "language": "julia",
   "name": "julia-1.11"
  },
  "language_info": {
   "file_extension": ".jl",
   "mimetype": "application/julia",
   "name": "julia",
   "version": "1.11.6"
  }
 },
 "nbformat": 4,
 "nbformat_minor": 5
}
