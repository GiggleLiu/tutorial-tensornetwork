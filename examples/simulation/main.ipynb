{
 "cells": [
  {
   "cell_type": "code",
   "execution_count": null,
   "id": "a26afdcf-ee60-454e-aa4b-98c29abe45e9",
   "metadata": {},
   "outputs": [],
   "source": [
    "# check the current environment\n",
    "using Pkg; Pkg.status()"
   ]
  },
  {
   "cell_type": "markdown",
   "id": "b58606fa-56e0-468f-bc1f-a682d273bc28",
   "metadata": {},
   "source": [
    "## Circuit loading\n",
    "We provide shallow circuits in the `data` folder, they are some popular quantum circuits for demonstrating quantum supremacy. These circuit are copied from [qfelx](https://github.com/s-mandra/qflex). To load the circuits to Yao.jl, please use the `YaoQASMReader` module provided in file `reader.jl`:"
   ]
  },
  {
   "cell_type": "code",
   "execution_count": null,
   "id": "2aabdf86-e5c8-42d2-8b92-f8f997c2a4bb",
   "metadata": {},
   "outputs": [],
   "source": [
    "using Yao\n",
    "\n",
    "# circuit reader\n",
    "include(\"reader.jl\")\n",
    "using .YaoCircuitReader: yaocircuit_from_file"
   ]
  },
  {
   "cell_type": "code",
   "execution_count": null,
   "id": "3405921b-d68d-4aa8-921c-749c8201d8d9",
   "metadata": {},
   "outputs": [],
   "source": [
    "readdir(joinpath(@__DIR__, \"data\", \"circuits\"))"
   ]
  },
  {
   "cell_type": "markdown",
   "id": "10fccd5d-85f0-475b-91df-2d89e8f276ee",
   "metadata": {},
   "source": [
    "We load the Sycamore 8 layer circuit data to Julia with [Yao](https://github.com/QuantumBFS/Yao.jl) (幺), a high performance quantum simulator. Sycamore circuit is a famous circuit that used in the random circuit benchmarking experiment to showcase the quantum advantage.\n",
    "\n",
    "**Reference**: Arute, et al, 2019. Quantum supremacy using a programmable superconducting processor. Nature 574, 505–510. https://doi.org/10.1038/s41586-019-1666-5"
   ]
  },
  {
   "cell_type": "code",
   "execution_count": null,
   "id": "8f17902e-d610-4ad2-b9d2-6afbef9442c4",
   "metadata": {},
   "outputs": [],
   "source": [
    "# please replace \"test.txt\" with \"bristlecone_70_1-12-1_0.txt\", a circuit with 70 qubits, 12 layers\n",
    "filename = joinpath(@__DIR__, \"data\", \"circuits\", \"bristlecone_70_1-20-1_0.txt\")"
   ]
  },
  {
   "cell_type": "code",
   "execution_count": null,
   "id": "ead845be-6ed8-4081-80e4-5e31172bf735",
   "metadata": {},
   "outputs": [],
   "source": [
    "# load a visualize\n",
    "@info \"Circuit: $(filename)\"\n",
    "c = yaocircuit_from_file(filename)\n",
    "vizcircuit(c)"
   ]
  },
  {
   "cell_type": "markdown",
   "id": "31c76c3b-1ff9-44ae-a3b2-0051e2eaca38",
   "metadata": {},
   "source": [
    "## Case 1: compute <0|c|0> with tensor networks\n",
    "\n",
    "During the convertion, we also specify an optimizer to specify the contraction order."
   ]
  },
  {
   "cell_type": "code",
   "execution_count": null,
   "id": "4041bdae-8822-4f73-bbe6-0745d0aba5db",
   "metadata": {},
   "outputs": [],
   "source": [
    "# all input and output qubits are set to |0>\n",
    "initial_state = Dict(zip(1:nqubits(c), zeros(Int,nqubits(c))))\n",
    "final_state = Dict(zip(1:nqubits(c), zeros(Int,nqubits(c))))\n",
    "optimizer = TreeSA(ntrials=1)  # contraction order optimizer\n",
    "net = yao2einsum(c; initial_state, final_state, optimizer)\n",
    "@info \"Contraction complexity: $(contraction_complexity(net))\""
   ]
  },
  {
   "cell_type": "markdown",
   "id": "509edaf5-4275-4c7e-ad24-a954ebb77c21",
   "metadata": {},
   "source": [
    "The space complexity is the number of elements in the largest itermediate tensor. It is a much smaller number compared with the full amplitude simulation that costs 2^(# of qubits) in storage. Learn more about contraction order optimizers: https://tensorbfs.github.io/OMEinsumContractionOrders.jl/dev/optimizers/"
   ]
  },
  {
   "cell_type": "code",
   "execution_count": null,
   "id": "848e29e7-c0c0-4b55-9deb-1e1398013a01",
   "metadata": {},
   "outputs": [],
   "source": [
    "fieldnames(typeof(net))"
   ]
  },
  {
   "cell_type": "code",
   "execution_count": null,
   "id": "41f259b8-3474-4f36-9ca1-1f22eae969ac",
   "metadata": {},
   "outputs": [],
   "source": [
    "length(net.tensors)"
   ]
  },
  {
   "cell_type": "code",
   "execution_count": null,
   "id": "c550b13c-c64a-4f1f-9e0a-57ff8a85826a",
   "metadata": {},
   "outputs": [],
   "source": [
    "psi0 = contract(net)"
   ]
  },
  {
   "cell_type": "code",
   "execution_count": null,
   "id": "37202d39-981d-466c-9daa-7392100a962f",
   "metadata": {},
   "outputs": [],
   "source": [
    "# using OMEinsum.OMEinsumContractionOrders: viz_eins\n",
    "# using LuxorGraphPlot\n",
    "# viz_eins(net.code)"
   ]
  },
  {
   "cell_type": "markdown",
   "id": "dcdc7af7-0dee-48fd-8cbb-aca6f9921fdd",
   "metadata": {},
   "source": [
    "## Case 2: Add noise and compute <ψ|X₁X₂|ψ>, where |ψ> = c |0>\n",
    "\n",
    "During the convertion, we also specify an optimizer to specify the contraction order."
   ]
  },
  {
   "cell_type": "code",
   "execution_count": null,
   "id": "89a233cd-cbcc-4091-9b32-0f1a47e41619",
   "metadata": {},
   "outputs": [],
   "source": [
    "# ## Case 2: add noise and compute <ψ|X₁X₂|ψ>, where |ψ> = c |0>\n",
    "function add_depolarizing_noise(c::AbstractBlock, depolarizing)\n",
    "    Optimise.replace_block(c) do blk\n",
    "        if blk isa PutBlock || blk isa ControlBlock\n",
    "            rep = chain(blk)\n",
    "            for loc in occupied_locs(blk)\n",
    "                push!(rep, put(nqubits(blk), loc=>DepolarizingChannel(1, depolarizing)))\n",
    "            end\n",
    "            return rep\n",
    "        else\n",
    "            return blk\n",
    "        end\n",
    "    end\n",
    "end\n",
    "noisy_c = add_depolarizing_noise(c, 0.01)\n",
    "vizcircuit(noisy_c)\n"
   ]
  },
  {
   "cell_type": "code",
   "execution_count": null,
   "id": "66e62cb7-8e8c-4077-92ed-43918517839c",
   "metadata": {},
   "outputs": [],
   "source": [
    "initial_state = Dict(zip(1:nqubits(noisy_c), zeros(Int,nqubits(noisy_c))))\n",
    "observable = kron(nqubits(noisy_c), 1=>X, 2=>X)\n",
    "noisy_net = yao2einsum(noisy_c; initial_state, observable, optimizer, mode=DensityMatrixMode())\n",
    "@info \"Contraction complexity: $(contraction_complexity(noisy_net))\""
   ]
  },
  {
   "cell_type": "code",
   "execution_count": null,
   "id": "01967d13-3a66-419c-9d4f-2f0b891d946c",
   "metadata": {},
   "outputs": [],
   "source": [
    "# contract(noisy_net)\n",
    "# TODO: add ref: xun gao"
   ]
  },
  {
   "cell_type": "markdown",
   "id": "cdadfd7f-159c-4278-b62f-986727b8b7b7",
   "metadata": {},
   "source": [
    "## References\n",
    "- Ayral, T., Louvet, T., Zhou, Y., Lambert, C., Stoudenmire, E.M., Waintal, X., 2023. Density-Matrix Renormalization Group Algorithm for Simulating Quantum Circuits with a Finite Fidelity. PRX Quantum 4, 020304. https://doi.org/10.1103/PRXQuantum.4.020304\n",
    "- B. Villalonga, et al., \"A flexible high-performance simulator for verifying and benchmarking quantum circuits implemented on real hardware\", NPJ Quantum Information 5, 86 (2019)"
   ]
  },
  {
   "cell_type": "code",
   "execution_count": null,
   "id": "48ed3d74-d7a0-404d-b4fb-c6ff832ea433",
   "metadata": {},
   "outputs": [],
   "source": []
  }
 ],
 "metadata": {
  "kernelspec": {
   "display_name": "Julia 1.11.6",
   "language": "julia",
   "name": "julia-1.11"
  },
  "language_info": {
   "file_extension": ".jl",
   "mimetype": "application/julia",
   "name": "julia",
   "version": "1.11.6"
  }
 },
 "nbformat": 4,
 "nbformat_minor": 5
}
